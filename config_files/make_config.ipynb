{
 "cells": [
  {
   "cell_type": "code",
   "execution_count": 1,
   "metadata": {},
   "outputs": [],
   "source": [
    "import json"
   ]
  },
  {
   "cell_type": "code",
   "execution_count": 28,
   "metadata": {},
   "outputs": [],
   "source": [
    "pv_info = json.load(open('pv_info.json'))"
   ]
  },
  {
   "cell_type": "code",
   "execution_count": 29,
   "metadata": {},
   "outputs": [
    {
     "data": {
      "text/plain": [
       "{'device': {'OTR2': {'pvname': 'OTRS:IN20:571',\n",
       "   'image': 'OTRS:IN20:571:IMAGE',\n",
       "   'ncol': 'OTRS:IN20:571:ROI_YNP',\n",
       "   'nrow': 'OTRS:IN20:571:ROI_XNP',\n",
       "   'resolution': 'OTRS:IN20:571:RESOLUTION',\n",
       "   'profmonxsize': 'OTRS:IN20:571:XRMS',\n",
       "   'profmonysize': 'OTRS:IN20:571:YRMS'},\n",
       "  'SOL': {'SOL121': 'SOLN:IN20:121:BCTRL'},\n",
       "  'QUAD': {'Q121': 'QUAD:IN20:121:BCTRL',\n",
       "   'Q122': 'QUAD:IN20:122:BCTRL',\n",
       "   'Q361': 'QUAD:IN20:361:BCTRL',\n",
       "   'Q371': 'QUAD:IN20:371:BCTRL',\n",
       "   'Q425': 'QUAD:IN20:425:BCTRL',\n",
       "   'Q441': 'QUAD:IN20:441:BCTRL',\n",
       "   'Q511': 'QUAD:IN20:511:BCTRL',\n",
       "   'Q525': 'QUAD:IN20:525:BCTRL'}},\n",
       " 'pv_unit': {'OTRS:IN20:571:RESOLUTION': '(um)',\n",
       "  'SOLN:IN20:121:BCTRL': '(kG*m)',\n",
       "  'QUAD:IN20:121:BCTRL': '(kG)',\n",
       "  'QUAD:IN20:122:BCTRL': '(kG)',\n",
       "  'QUAD:IN20:361:BCTRL': '(kG)',\n",
       "  'QUAD:IN20:371:BCTRL': '(kG)',\n",
       "  'QUAD:IN20:425:BCTRL': '(kG)',\n",
       "  'QUAD:IN20:441:BCTRL': '(kG)',\n",
       "  'QUAD:IN20:511:BCTRL': '(kG)',\n",
       "  'QUAD:IN20:525:BCTRL': '(kG)'},\n",
       " 'energy': {'gun': 'REFS:IN20:231:EDES',\n",
       "  'DL1': 'REFS:IN20:751:EDES',\n",
       "  'Q631': 'QUAD:IN20:631:EDES',\n",
       "  'B751': 'BEND:IN20:751:EDES'}}"
      ]
     },
     "execution_count": 29,
     "metadata": {},
     "output_type": "execute_result"
    }
   ],
   "source": [
    "pv_info"
   ]
  },
  {
   "cell_type": "code",
   "execution_count": 78,
   "metadata": {},
   "outputs": [],
   "source": [
    "meas_pv_info = {'diagnostic': \n",
    "                \n",
    "           {'pv':\n",
    "                {'name':'OTRS:IN20:571',\n",
    "               'image': 'OTRS:IN20:571:IMAGE',\n",
    "               'ncol': 'OTRS:IN20:571:ROI_YNP',\n",
    "               'nrow': 'OTRS:IN20:571:ROI_XNP',\n",
    "               'resolution': 'OTRS:IN20:571:RESOLUTION',\n",
    "               'profmonxsize': 'OTRS:IN20:571:XRMS',\n",
    "               'profmonysize': 'OTRS:IN20:571:YRMS'},\n",
    "            \n",
    "            'pv_unit':{'resolution':'(um)'}},\n",
    "           \n",
    "                           \n",
    "       'meas_device':\n",
    "                \n",
    "           {'pv':\n",
    "                {'name':'QUAD:IN20:525',\n",
    "                 'cntrl':'QUAD:IN20:525:BCTRL',\n",
    "                 'read': 'QUAD:IN20:525:BACT'},\n",
    "            'pv_unit': ('kG')},\n",
    "           \n",
    "       'beam_info':\n",
    "               {'energy':'REFS:IN20:751:EDES'}}"
   ]
  },
  {
   "cell_type": "code",
   "execution_count": 79,
   "metadata": {},
   "outputs": [],
   "source": [
    "opt_pv_info = {\n",
    "           'opt_vars': ['SOLN:IN20:121:BCTRL',\n",
    "                       'QUAD:IN20:121:BCTRL',\n",
    "                       'QUAD:IN20:122:BCTRL',\n",
    "                       'QUAD:IN20:361:BCTRL',\n",
    "                       'QUAD:IN20:371:BCTRL',\n",
    "                       'QUAD:IN20:425:BCTRL',\n",
    "                       'QUAD:IN20:441:BCTRL',\n",
    "                       'QUAD:IN20:511:BCTRL',\n",
    "                       'QUAD:IN20:525:BCTRL'],\n",
    "            'opt_var_units':\n",
    "                      ['(kG*m)',\n",
    "                       '(kG)',\n",
    "                      '(kG)',\n",
    "                      '(kG)',\n",
    "                      '(kG)',\n",
    "                      '(kG)',\n",
    "                      '(kG)',\n",
    "                      '(kG)',\n",
    "                      '(kG)'],\n",
    "            \n",
    "            'input_vars':[]}"
   ]
  },
  {
   "cell_type": "code",
   "execution_count": 6,
   "metadata": {},
   "outputs": [],
   "source": [
    "savepaths = {\n",
    "           'fits': './saved_fits/',\n",
    "            'images':'./saved_images/',\n",
    "            'monitoring':'./monitoring/',\n",
    "            'summaries':'./summaries/',\n",
    "            'raw_saves':'./raw_saves/',\n",
    "            'emit_saves':'./emit_saves/',\n",
    "            'mon_saves':'./mon_saves/'}"
   ]
  },
  {
   "cell_type": "code",
   "execution_count": null,
   "metadata": {},
   "outputs": [],
   "source": []
  },
  {
   "cell_type": "code",
   "execution_count": 100,
   "metadata": {},
   "outputs": [],
   "source": [
    "img_proc = {\n",
    "           'subtract_bg': False,\n",
    "            'use_roi':False,\n",
    "            'avg_ims':True,\n",
    "            'n_to_acquire':5,\n",
    "            'background_im':None,\n",
    "            'amp_threshold':1500,\n",
    "            'min_sigma':1.0,\n",
    "            'max_sigma':60,\n",
    "            'max_samples':3,\n",
    "            'roi':{'xmin':0,'xmax':100,'ymin':0,'ymax':100}}"
   ]
  },
  {
   "cell_type": "code",
   "execution_count": null,
   "metadata": {},
   "outputs": [],
   "source": [
    "beamline_info = {\n",
    "                'energy':\n",
    "                'Twiss0':[1e-6, 1e-6, 1.113081026, 1.113021659, -6.89403587e-2, -7.029489754e-2]\n",
    "}"
   ]
  },
  {
   "cell_type": "code",
   "execution_count": 3,
   "metadata": {},
   "outputs": [],
   "source": [
    "pvname_list = {'scalars': ['SOLN:IN10:121:BACT',  \n",
    "                'SOLN:IN10:111:BACT',\n",
    "       'QUAD:IN10:121:BACT',  \n",
    "       'QUAD:IN10:122:BACT', \n",
    "\n",
    "        \"QUAD:IN10:361:BACT\",\n",
    "        \"QUAD:IN10:371:BACT\",\n",
    "        \"QUAD:IN10:425:BACT\",\n",
    "        \"QUAD:IN10:441:BACT\",\n",
    "        \"QUAD:IN10:511:BACT\",\n",
    "        \"QUAD:IN10:525:BACT\",\n",
    "               \n",
    "        'SOLN:IN10:121:BCTRL', \n",
    "        'SOLN:IN10:111:BCTRL',\n",
    "       'QUAD:IN10:121:BCTRL', \n",
    "       'QUAD:IN10:122:BCTRL',\n",
    "               \n",
    "        \"QUAD:IN10:361:BCTRL\",\n",
    "        \"QUAD:IN10:371:BCTRL\",\n",
    "        \"QUAD:IN10:425:BCTRL\",\n",
    "        \"QUAD:IN10:441:BCTRL\",\n",
    "        \"QUAD:IN10:511:BCTRL\",\n",
    "        \"QUAD:IN10:525:BCTRL\",\n",
    "               \n",
    "       'KLYS:LI10:21:PHAS',\n",
    "       'KLYS:LI10:21:AMPL',\n",
    "       'KLYS:LI10:51:PHAS',\n",
    "\n",
    "       'PROF:IN10:571:XRMS',\n",
    "       'PROF:IN10:571:YRMS',\n",
    "       'PROF:IN10:571:X',\n",
    "       'PROF:IN10:571:Y',\n",
    "       'TORO:IN10:791:0:TMIT_PC',\n",
    "               'PROF:IN10:571:RESOLUTION',\n",
    "               'CAMR:LT10:900:RESOLUTION',\n",
    "               'PROF:IN10:571:Image:ArraySize0_RBV',\n",
    "               'PROF:IN10:571:Image:ArraySize1_RBV',\n",
    "               \"CAMR:LT10:900:Image:ArraySize0_RBV\",\n",
    "                \"CAMR:LT10:900:Image:ArraySize1_RBV\"]}\n",
    "\n",
    "\n",
    "with open('save_scalar_pvs.json', 'w') as outfile:\n",
    "    json.dump(pvname_list, outfile)"
   ]
  },
  {
   "cell_type": "code",
   "execution_count": 102,
   "metadata": {},
   "outputs": [],
   "source": [
    "\n",
    "\n",
    "ts = isotime()\n",
    "x = epics.caget_many(pvname_list)\n",
    "img=epics.caget('PROF:IN10:571:Image:ArrayData')\n",
    "nrow = epics.caget('PROF:IN10:571:Image:ArraySize0_RBV')\n",
    "ncol = epics.caget('PROF:IN10:571:Image:ArraySize1_RBV')    \n",
    "\n",
    "res = epics.caget('PROF:IN10:571:RESOLUTION')\n",
    "\n",
    "nrow1 = caget(\"CAMR:LT10:900:Image:ArraySize0_RBV\")\n",
    "ncol1 = caget(\"CAMR:LT10:900:Image:ArraySize1_RBV\")\n",
    "\n",
    "resolution1 = caget(\"CAMR:LT10:900:RESOLUTION\")\n",
    "img1 =caget('CAMR:LT10:900:Image:ArrayData')\n"
   ]
  },
  {
   "cell_type": "code",
   "execution_count": 5,
   "metadata": {},
   "outputs": [],
   "source": [
    "\n",
    "with open('savepaths.json', 'w') as outfile:\n",
    "    json.dump(savepaths, outfile)"
   ]
  },
  {
   "cell_type": "code",
   "execution_count": 80,
   "metadata": {},
   "outputs": [],
   "source": [
    "with open('meas_pv_info.json', 'w') as outfile:\n",
    "    json.dump(meas_pv_info, outfile)"
   ]
  },
  {
   "cell_type": "code",
   "execution_count": 81,
   "metadata": {},
   "outputs": [],
   "source": [
    "with open('opt_pv_info.json', 'w') as outfile:\n",
    "    json.dump(opt_pv_info, outfile)"
   ]
  },
  {
   "cell_type": "code",
   "execution_count": 101,
   "metadata": {},
   "outputs": [],
   "source": [
    "with open('img_proc.json', 'w') as outfile:\n",
    "    json.dump(img_proc, outfile)"
   ]
  },
  {
   "cell_type": "code",
   "execution_count": null,
   "metadata": {},
   "outputs": [],
   "source": []
  }
 ],
 "metadata": {
  "kernelspec": {
   "display_name": "Python 3",
   "language": "python",
   "name": "python3"
  },
  "language_info": {
   "codemirror_mode": {
    "name": "ipython",
    "version": 3
   },
   "file_extension": ".py",
   "mimetype": "text/x-python",
   "name": "python",
   "nbconvert_exporter": "python",
   "pygments_lexer": "ipython3",
   "version": "3.7.1"
  }
 },
 "nbformat": 4,
 "nbformat_minor": 4
}
