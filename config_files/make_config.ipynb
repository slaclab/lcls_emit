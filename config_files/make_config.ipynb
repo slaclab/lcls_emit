{
 "cells": [
  {
   "cell_type": "code",
   "execution_count": 1,
   "metadata": {},
   "outputs": [],
   "source": [
    "import json"
   ]
  },
  {
   "cell_type": "code",
   "execution_count": 3,
   "metadata": {},
   "outputs": [],
   "source": [
    "#pv_info = json.load(open('pv_info.json'))"
   ]
  },
  {
   "cell_type": "code",
   "execution_count": 5,
   "metadata": {},
   "outputs": [],
   "source": [
    "#pv_info"
   ]
  },
  {
   "cell_type": "code",
   "execution_count": 9,
   "metadata": {},
   "outputs": [],
   "source": [
    "meas_pv_info = {'diagnostic': \n",
    "                \n",
    "           {'pv':\n",
    "                {'name':'OTRS:IN20:571',\n",
    "               'image': 'OTRS:IN20:571:IMAGE',\n",
    "               'ncol': 'OTRS:IN20:571:ROI_YNP',\n",
    "               'nrow': 'OTRS:IN20:571:ROI_XNP',\n",
    "               'resolution': 'OTRS:IN20:571:RESOLUTION',\n",
    "               'profmonxsize': 'OTRS:IN20:571:XRMS',\n",
    "               'profmonysize': 'OTRS:IN20:571:YRMS'},\n",
    "            \n",
    "            'pv_unit':{'resolution':'(um)'}},\n",
    "           \n",
    "                           \n",
    "       'meas_device':\n",
    "                \n",
    "           {'pv':\n",
    "                {'name':'QUAD:IN20:525',\n",
    "                 'cntrl':'QUAD:IN20:525:BCTRL',\n",
    "                 'read': 'QUAD:IN20:525:BACT'},\n",
    "            'pv_unit': ('kG')},\n",
    "           \n",
    "       'beam_info':\n",
    "               {'energy':'REFS:IN20:751:EDES'}}"
   ]
  },
  {
   "cell_type": "code",
   "execution_count": 10,
   "metadata": {},
   "outputs": [],
   "source": [
    "opt_pv_info = {\n",
    "           'opt_vars': ['SOLN:IN20:121:BCTRL',\n",
    "                       'QUAD:IN20:121:BCTRL',\n",
    "                       'QUAD:IN20:122:BCTRL',\n",
    "                       'QUAD:IN20:361:BCTRL',\n",
    "                       'QUAD:IN20:371:BCTRL',\n",
    "                       'QUAD:IN20:425:BCTRL',\n",
    "                       'QUAD:IN20:441:BCTRL',\n",
    "                       'QUAD:IN20:511:BCTRL',\n",
    "                       'QUAD:IN20:525:BCTRL'],\n",
    "            'opt_var_units':\n",
    "                      ['(kG*m)',\n",
    "                       '(kG)',\n",
    "                      '(kG)',\n",
    "                      '(kG)',\n",
    "                      '(kG)',\n",
    "                      '(kG)',\n",
    "                      '(kG)',\n",
    "                      '(kG)',\n",
    "                      '(kG)'],\n",
    "            \n",
    "            'input_vars':[]}"
   ]
  },
  {
   "cell_type": "code",
   "execution_count": 11,
   "metadata": {},
   "outputs": [],
   "source": [
    "rootp = '/home/physics/smiskov/20211209/'\n",
    "savepaths = {\n",
    "           'fits': rootp+'/saved_fits/',\n",
    "            'images':rootp+'/saved_images/',\n",
    "            'monitoring':rootp+'/monitoring/',\n",
    "            'summaries':rootp+'/summaries/',\n",
    "            'raw_saves':rootp+'/raw_saves/',\n",
    "            'emit_saves':rootp+'/emit_saves/',\n",
    "            'mon_saves':rootp+'/mon_saves/',\n",
    "            'xopt_saves':rootp+'/xopt_saves/'}"
   ]
  },
  {
   "cell_type": "code",
   "execution_count": null,
   "metadata": {},
   "outputs": [],
   "source": []
  },
  {
   "cell_type": "code",
   "execution_count": 12,
   "metadata": {},
   "outputs": [],
   "source": [
    "img_proc = {\n",
    "           'subtract_bg': False,\n",
    "            'use_roi':False,\n",
    "            'avg_ims':True,\n",
    "            'n_to_acquire':5,\n",
    "            'background_im':None,\n",
    "            'amp_threshold':1500,\n",
    "            'min_sigma':1.0,\n",
    "            'max_sigma':60,\n",
    "            'max_samples':3,\n",
    "            'roi':{'xmin':0,'xmax':100,'ymin':0,'ymax':100}}"
   ]
  },
  {
   "cell_type": "code",
   "execution_count": 13,
   "metadata": {},
   "outputs": [],
   "source": [
    "beamline_info = {\n",
    "                'energy':0.135,\n",
    "                'Twiss0':[1e-6, 1e-6, 1.113081026, 1.113021659, -6.89403587e-2, -7.029489754e-2]\n",
    "}"
   ]
  },
  {
   "cell_type": "code",
   "execution_count": 14,
   "metadata": {},
   "outputs": [],
   "source": [
    "pvname_list = {'scalars': ['SOLN:IN20:121:BACT',  \n",
    "       'QUAD:IN20:121:BACT',  \n",
    "       'QUAD:IN20:122:BACT', \n",
    "\n",
    "        \"QUAD:IN20:361:BACT\",\n",
    "        \"QUAD:IN20:371:BACT\",\n",
    "        \"QUAD:IN20:425:BACT\",\n",
    "        \"QUAD:IN20:441:BACT\",\n",
    "        \"QUAD:IN20:511:BACT\",\n",
    "        \"QUAD:IN20:525:BACT\",\n",
    "               \n",
    "        'SOLN:IN20:121:BCTRL', \n",
    "       'QUAD:IN20:121:BCTRL', \n",
    "       'QUAD:IN20:122:BCTRL',\n",
    "               \n",
    "        \"QUAD:IN20:361:BCTRL\",\n",
    "        \"QUAD:IN20:371:BCTRL\",\n",
    "        \"QUAD:IN20:425:BCTRL\",\n",
    "        \"QUAD:IN20:441:BCTRL\",\n",
    "        \"QUAD:IN20:511:BCTRL\",\n",
    "        \"QUAD:IN20:525:BCTRL\",\n",
    "\n",
    "       'OTRS:IN20:571:XRMS',\n",
    "       'OTRS:IN20:571:YRMS',\n",
    "       'OTRS:IN20:571:X',\n",
    "       'OTRS:IN20:571:Y',\n",
    "               'OTRS:IN20:571:RESOLUTION']}\n",
    "#        'TORO:IN20:791:0:TMIT_PC',\n",
    "#                'PROF:IN20:571:RESOLUTION',\n",
    "#                'CAMR:LT10:900:RESOLUTION',\n",
    "#                'PROF:IN20:571:Image:ArraySize0_RBV',\n",
    "#                'PROF:IN20:571:Image:ArraySize1_RBV',\n",
    "#                \"CAMR:LT10:900:Image:ArraySize0_RBV\",\n",
    "#                 \"CAMR:LT10:900:Image:ArraySize1_RBV\"]}\n",
    "\n",
    "with open('save_scalar_pvs.json', 'w') as outfile:\n",
    "    json.dump(pvname_list, outfile)"
   ]
  },
  {
   "cell_type": "code",
   "execution_count": 102,
   "metadata": {},
   "outputs": [],
   "source": [
    "\n",
    "\n",
    "# ts = isotime()\n",
    "# x = epics.caget_many(pvname_list)\n",
    "# img=epics.caget('PROF:IN10:571:Image:ArrayData')\n",
    "# nrow = epics.caget('PROF:IN10:571:Image:ArraySize0_RBV')\n",
    "# ncol = epics.caget('PROF:IN10:571:Image:ArraySize1_RBV')    \n",
    "\n",
    "# res = epics.caget('PROF:IN10:571:RESOLUTION')\n",
    "\n",
    "# nrow1 = caget(\"CAMR:LT10:900:Image:ArraySize0_RBV\")\n",
    "# ncol1 = caget(\"CAMR:LT10:900:Image:ArraySize1_RBV\")\n",
    "\n",
    "# resolution1 = caget(\"CAMR:LT10:900:RESOLUTION\")\n",
    "# img1 =caget('CAMR:LT10:900:Image:ArrayData')\n"
   ]
  },
  {
   "cell_type": "code",
   "execution_count": 15,
   "metadata": {},
   "outputs": [],
   "source": [
    "\n",
    "with open('savepaths.json', 'w') as outfile:\n",
    "    json.dump(savepaths, outfile)"
   ]
  },
  {
   "cell_type": "code",
   "execution_count": 16,
   "metadata": {},
   "outputs": [],
   "source": [
    "with open('meas_pv_info.json', 'w') as outfile:\n",
    "    json.dump(meas_pv_info, outfile)"
   ]
  },
  {
   "cell_type": "code",
   "execution_count": 17,
   "metadata": {},
   "outputs": [],
   "source": [
    "with open('opt_pv_info.json', 'w') as outfile:\n",
    "    json.dump(opt_pv_info, outfile)"
   ]
  },
  {
   "cell_type": "code",
   "execution_count": 18,
   "metadata": {},
   "outputs": [],
   "source": [
    "with open('img_proc.json', 'w') as outfile:\n",
    "    json.dump(img_proc, outfile)"
   ]
  },
  {
   "cell_type": "code",
   "execution_count": 19,
   "metadata": {},
   "outputs": [],
   "source": [
    "with open('beamline_info.json', 'w') as outfile:\n",
    "    json.dump(beamline_info, outfile)"
   ]
  },
  {
   "cell_type": "code",
   "execution_count": null,
   "metadata": {},
   "outputs": [],
   "source": []
  }
 ],
 "metadata": {
  "kernelspec": {
   "display_name": "Python 3",
   "language": "python",
   "name": "python3"
  },
  "language_info": {
   "codemirror_mode": {
    "name": "ipython",
    "version": 3
   },
   "file_extension": ".py",
   "mimetype": "text/x-python",
   "name": "python",
   "nbconvert_exporter": "python",
   "pygments_lexer": "ipython3",
   "version": "3.7.11"
  }
 },
 "nbformat": 4,
 "nbformat_minor": 4
}
