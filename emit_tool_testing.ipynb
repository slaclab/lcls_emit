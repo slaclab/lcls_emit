{
 "cells": [
  {
   "cell_type": "code",
   "execution_count": 1,
   "id": "thick-monday",
   "metadata": {},
   "outputs": [],
   "source": [
    "import numpy as np\n",
    "import sys\n",
    "import json\n",
    "import time\n",
    "import datetime\n",
    "from epics import caget, caput, PV\n",
    "\n",
    "from beam_io import *\n",
    "from emittance_calc import get_normemit\n",
    "\n",
    "import matplotlib.pyplot as plt"
   ]
  },
  {
   "cell_type": "code",
   "execution_count": 2,
   "id": "personal-fleece",
   "metadata": {},
   "outputs": [
    {
     "data": {
      "text/plain": [
       "12.23"
      ]
     },
     "execution_count": 2,
     "metadata": {},
     "output_type": "execute_result"
    }
   ],
   "source": [
    "caget(\"OTRS:IN20:571:RESOLUTION\") #12.23"
   ]
  },
  {
   "cell_type": "code",
   "execution_count": 7,
   "id": "scenic-preliminary",
   "metadata": {},
   "outputs": [
    {
     "data": {
      "text/plain": [
       "array([10,  2,  5, ..., 13,  8, 11], dtype=int32)"
      ]
     },
     "execution_count": 7,
     "metadata": {},
     "output_type": "execute_result"
    }
   ],
   "source": [
    "PV(\"OTRS:IN20:571:IMAGE\").get()"
   ]
  },
  {
   "cell_type": "code",
   "execution_count": 3,
   "id": "54ecb695",
   "metadata": {},
   "outputs": [
    {
     "data": {
      "text/plain": [
       "array([3.55954846e-05, 2.60920621e-05])"
      ]
     },
     "execution_count": 3,
     "metadata": {},
     "output_type": "execute_result"
    }
   ],
   "source": [
    "# testing for bax\n",
    "get_beamsize_inj(use_profMon=True)"
   ]
  },
  {
   "cell_type": "code",
   "execution_count": 5,
   "id": "purple-trace",
   "metadata": {},
   "outputs": [],
   "source": [
    "pv_info = json.load(open('pv_info.json'))\n",
    "\n",
    "im_pv = PV(\"OTRS:IN20:571:IMAGE\")\n",
    "n_col_pv =  PV(\"OTRS:IN20:571:ROI_YNP\")\n",
    "n_row_pv =  PV(\"OTRS:IN20:571:ROI_XNP\")\n",
    "\n",
    "meas_input_pv =  PV(pv_info['device']['QUAD']['Q525'])\n",
    "varx_pv =  PV(pv_info['device']['SOL']['SOL121'])\n",
    "vary_pv =  PV(pv_info['device']['QUAD']['Q121'])\n",
    "varz_pv =  PV(pv_info['device']['QUAD']['Q122'])\n",
    "\n",
    "varx_act_pv =  PV(\"SOLN:IN20:121:BACT\")\n",
    "vary_act_pv =  PV(\"QUAD:IN20:121:BACT\")\n",
    "varz_act_pv =  PV(\"QUAD:IN20:122:BACT\")\n",
    "quad_act_pv =  PV(\"QUAD:IN20:525:BACT\")\n",
    "\n",
    "x_size_pv = PV(pv_info['device']['OTR2']['profmonxsize'])\n",
    "y_size_pv = PV(pv_info['device']['OTR2']['profmonysize'])\n",
    "\n",
    "energy = caget(pv_info['energy']['DL1'])\n",
    "resolution = 12.23*1e-6"
   ]
  },
  {
   "cell_type": "code",
   "execution_count": 3,
   "id": "oriental-picnic",
   "metadata": {},
   "outputs": [],
   "source": [
    "pvname_list = [PV('SOLN:IN20:121:BCTRL'), #solenoid\n",
    "               PV('QUAD:IN20:121:BCTRL'), #skew quad\n",
    "               PV('QUAD:IN20:122:BCTRL'), #skew quad\n",
    "               PV('QUAD:IN20:525:BCTRL')  #matching quad\n",
    "              ]"
   ]
  },
  {
   "cell_type": "code",
   "execution_count": 4,
   "id": "aggregate-bridges",
   "metadata": {},
   "outputs": [
    {
     "name": "stdout",
     "output_type": "stream",
     "text": [
      "0.4704728 0.0076648469 0.0034501273 -2.9159415\n"
     ]
    }
   ],
   "source": [
    "# init vals\n",
    "init_sol  = pvname_list[0].get()\n",
    "init_q121 = pvname_list[1].get()\n",
    "init_q122 = pvname_list[2].get()\n",
    "init_q525 = pvname_list[3].get()\n",
    "print(init_sol, init_q121, init_q122, init_q525)"
   ]
  },
  {
   "cell_type": "code",
   "execution_count": 8,
   "id": "first-excuse",
   "metadata": {},
   "outputs": [],
   "source": [
    "def set_injector(varx, vary, varz):\n",
    "    pvname_list[0].put(varx)\n",
    "    pvname_list[1].put(vary)\n",
    "    pvname_list[2].put(vary)"
   ]
  },
  {
   "cell_type": "markdown",
   "id": "999ded57",
   "metadata": {},
   "source": [
    "## Using images"
   ]
  },
  {
   "cell_type": "code",
   "execution_count": null,
   "id": "comprehensive-victoria",
   "metadata": {},
   "outputs": [],
   "source": [
    "# example init quad list\n",
    "quad_list = [-5, -4, -3, -2]\n",
    "xrms = []\n",
    "yrms = []\n",
    "xrms_err = []\n",
    "yrms_err = []\n",
    "\n",
    "for quad in quad_list:\n",
    "    setquad(quad)\n",
    "    time.sleep(3)\n",
    "    beamsize = get_updated_beamsizes(quad, use_profMon=False) \n",
    "    xrms.append(beamsize[0])\n",
    "    yrms.append(beamsize[1])\n",
    "    xrms_err.append(beamsize[2])\n",
    "    yrms_err.append(beamsize[3])\n",
    "    \n",
    "# # Compute and return emittance using quad_list and beamsizes_list\n",
    "emittance = get_normemit(0.135, quad, quad, xrms, yrms, xrms_err, yrms_err, \\\n",
    "                           adapt_ranges=True, num_points=5, show_plots=True)"
   ]
  },
  {
   "cell_type": "markdown",
   "id": "a0342cc0",
   "metadata": {},
   "source": [
    "## Using profile Monitor"
   ]
  },
  {
   "cell_type": "code",
   "execution_count": null,
   "id": "2494e63b",
   "metadata": {},
   "outputs": [],
   "source": [
    "# example init quad list\n",
    "quad_list = [-5, -4, -3, -2]\n",
    "xrms = []\n",
    "yrms = []\n",
    "xrms_err = []\n",
    "yrms_err = []\n",
    "\n",
    "for quad in quad_list:\n",
    "    setquad(quad)\n",
    "    time.sleep(3)\n",
    "    beamsize = get_updated_beamsizes(quad, use_profMon=True) \n",
    "    xrms.append(beamsize[0])\n",
    "    yrms.append(beamsize[1])\n",
    "    xrms_err.append(beamsize[2])\n",
    "    yrms_err.append(beamsize[3])\n",
    "    \n",
    "# # Compute and return emittance using quad_list and beamsizes_list\n",
    "emittance = get_normemit(0.135, quad, quad, xrms, yrms, xrms_err, yrms_err, \\\n",
    "                           adapt_ranges=True, num_points=5, show_plots=True)"
   ]
  },
  {
   "cell_type": "code",
   "execution_count": null,
   "id": "serious-analyst",
   "metadata": {},
   "outputs": [],
   "source": []
  }
 ],
 "metadata": {
  "kernelspec": {
   "display_name": "Python 3 (ipykernel)",
   "language": "python",
   "name": "python3"
  },
  "language_info": {
   "codemirror_mode": {
    "name": "ipython",
    "version": 3
   },
   "file_extension": ".py",
   "mimetype": "text/x-python",
   "name": "python",
   "nbconvert_exporter": "python",
   "pygments_lexer": "ipython3",
   "version": "3.8.8"
  }
 },
 "nbformat": 4,
 "nbformat_minor": 5
}
