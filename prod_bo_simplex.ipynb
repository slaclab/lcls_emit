{
 "cells": [
  {
   "cell_type": "code",
   "execution_count": null,
   "id": "710990b6-354b-4135-873f-db9618a3761a",
   "metadata": {},
   "outputs": [],
   "source": [
    "import numpy as np\n",
    "from bayes_opt import BayesianOptimization\n",
    "from scipy import optimize\n",
    "\n",
    "# Suppress TF warnings\n",
    "import tensorflow as tf\n",
    "#tf.disable_v2_behavior()\n",
    "tf.compat.v1.logging.set_verbosity(tf.compat.v1.logging.ERROR)\n",
    "\n",
    "from emittance_calc import get_normemit\n",
    "from lcls_opt import LclsOpt"
   ]
  },
  {
   "cell_type": "markdown",
   "id": "345c9ead-a723-499a-84ae-f1397f373ab2",
   "metadata": {},
   "source": [
    "Method w/ BO and Simplex:\n",
    "1. start w/ same init array for scan\n",
    "2. get beamsizes\n",
    "3. pass beamsizes + quad vals to adapt_range, get new range back\n",
    "4. get beamsizes for new range\n",
    "5. check symmetry\n",
    "6. get missing beamsizes if any\n",
    "7. check inflection points, get new sliced data back\n",
    "8. pass data to get_normemit\n",
    "\n",
    "Extra step for BO:\n",
    "1. get emit + err returned from get_normemit\n",
    "2. if emit=nan or err/emit>0.15 -> go to next iteration"
   ]
  },
  {
   "cell_type": "markdown",
   "id": "988cccf7-9aed-42f7-9b65-addb3a60d5ca",
   "metadata": {},
   "source": [
    "# taking bad emittances as large values / ignoring large uncertainty"
   ]
  },
  {
   "cell_type": "code",
   "execution_count": null,
   "id": "17079221-b224-49fd-95bd-9303bb275057",
   "metadata": {},
   "outputs": [],
   "source": [
    "seed = 21\n",
    "\n",
    "opt = LclsOpt()\n",
    "optimizer = opt.run_bo_opt_w_reject(rnd_state=seed, init_pnts=3, n_iter=25)\n"
   ]
  },
  {
   "cell_type": "markdown",
   "id": "a50efad4-b4e2-4d3f-9d33-8a55d697d6e6",
   "metadata": {},
   "source": [
    "# removing bad emittances"
   ]
  },
  {
   "cell_type": "code",
   "execution_count": null,
   "id": "5482c36f-a33d-4938-abdc-6704bc844183",
   "metadata": {},
   "outputs": [],
   "source": [
    "seed = 21\n",
    "\n",
    "opt = LclsOpt()\n",
    "\n",
    "# or regular BO using opt.run_bo_opt\n",
    "optimizer = opt.run_bo_opt_w_reject(rnd_state=seed, init_pnts=3, n_iter=25)"
   ]
  },
  {
   "cell_type": "markdown",
   "id": "25fbaa63-cb97-4bba-85b6-d116d0bfce17",
   "metadata": {},
   "source": [
    "# Simplex"
   ]
  },
  {
   "cell_type": "code",
   "execution_count": null,
   "id": "6a11fab0-f55c-48a7-8c13-dd9b47f59bc4",
   "metadata": {},
   "outputs": [],
   "source": [
    "# take initial guess as best init of BO \n",
    "initial_guess = np.array([0.4676,  0.003278, -0.003838])\n",
    "\n",
    "opt = LclsOpt()\n",
    "minimum = opt.run_simplex_opt(120, initial_guess) "
   ]
  },
  {
   "cell_type": "code",
   "execution_count": null,
   "id": "68d055be-ade8-4df8-be9a-5285e436ff7e",
   "metadata": {},
   "outputs": [],
   "source": [
    "minimum"
   ]
  },
  {
   "cell_type": "code",
   "execution_count": null,
   "id": "545f1956-4769-4828-98fe-dce987590e96",
   "metadata": {},
   "outputs": [],
   "source": []
  }
 ],
 "metadata": {
  "kernelspec": {
   "display_name": "Python 3",
   "language": "python",
   "name": "python3"
  },
  "language_info": {
   "codemirror_mode": {
    "name": "ipython",
    "version": 3
   },
   "file_extension": ".py",
   "mimetype": "text/x-python",
   "name": "python",
   "nbconvert_exporter": "python",
   "pygments_lexer": "ipython3",
   "version": "3.7.11"
  }
 },
 "nbformat": 4,
 "nbformat_minor": 5
}
